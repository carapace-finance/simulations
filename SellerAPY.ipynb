{
 "cells": [
  {
   "cell_type": "code",
   "execution_count": 6,
   "id": "1db50f93",
   "metadata": {},
   "outputs": [],
   "source": [
    "#APY Simulation\n",
    "import math\n",
    "from matplotlib import pyplot as plt\n",
    "import numpy as np"
   ]
  },
  {
   "cell_type": "code",
   "execution_count": 29,
   "id": "9c0850d6",
   "metadata": {},
   "outputs": [],
   "source": [
    "# constant values for premium the pricing formula\n",
    "\n",
    "# user inputs \n",
    "DURATION = 1\n",
    "PROTECTION_AMOUNT = 1\n",
    "\n",
    "# predefined values\n",
    "CURVATURE = 1/40\n",
    "LEVERAGE_RATIO_FLOOR = 0.1\n",
    "LEVERAGE_RATIO_CEILING = 0.2\n",
    "BUFFER = 0.05\n",
    "LEVERAGE_RATIO_MIN = LEVERAGE_RATIO_FLOOR - BUFFER\n",
    "LEVERAGE_RATIO_MAX = LEVERAGE_RATIO_CEILING + BUFFER\n",
    "MIN_CARAPACE_RISK_PREMIUM = 0.02\n",
    "UNDERLYING_RISK_PREMIUM_PERCENT = 0.1\n",
    "PROTECTION_BUYER_APY = 0.2\n",
    "MINIMUM_STOKEN_UNDERLYING = 400000\n",
    "MINIMUM_TOTAL_PROTECTION_AMOUNT = 2000000\n",
    "\n",
    "# market driven values\n",
    "LEVERAGE_RATIO = 0.15\n",
    "\n",
    "# flags\n",
    "INSUFFICIENT_TOTAL_CAPITAL = -1\n",
    "INSUFFICIENT_TOTAL_PROTECTION_AMOUNT = -2\n"
   ]
  },
  {
   "cell_type": "code",
   "execution_count": 30,
   "id": "bb1d4bb7",
   "metadata": {},
   "outputs": [],
   "source": [
    "# the leverage ratio formula\n",
    "\n",
    "# When the Carapace Protocol starts a new pool, there are the minimal sToken underlying from protection sellers and the minimal total protection amount in the pool. If the sToken underlying is less than the minimum sToken underlying or the total protection amount is less than minimum total protection amount, the premium is min_base_premium + risk_premium. \n",
    "\n",
    "def leverage_ratio(\n",
    "    sToken_underlying=MINIMUM_STOKEN_UNDERLYING,\n",
    "    total_protection_amount=MINIMUM_TOTAL_PROTECTION_AMOUNT\n",
    "):\n",
    "    if(sToken_underlying < MINIMUM_STOKEN_UNDERLYING):\n",
    "        return INSUFFICIENT_TOTAL_CAPITAL\n",
    "    if(total_protection_amount < MINIMUM_TOTAL_PROTECTION_AMOUNT):\n",
    "        return INSUFFICIENT_TOTAL_PROTECTION_AMOUNT\n",
    "    return sToken_underlying/total_protection_amount\n",
    "    # where sToken_underlying = locked_capital + accrued_premiums - default_payouts\n",
    "\n",
    "# base premium formula\n",
    "\n",
    "def carapace_risk_premium(\n",
    "    duration=DURATION,\n",
    "    curvature=CURVATURE,\n",
    "    leverage_ratio=LEVERAGE_RATIO,\n",
    "    leverage_ratio_min=LEVERAGE_RATIO_MIN,\n",
    "    leverage_ratio_max=LEVERAGE_RATIO_MAX,\n",
    "    min_carapace_risk_premium= MIN_CARAPACE_RISK_PREMIUM,\n",
    "):\n",
    "\n",
    "    if(leverage_ratio == INSUFFICIENT_TOTAL_CAPITAL):\n",
    "        #print(\"total capital is less than minimum total capital\")\n",
    "        return min_carapace_risk_premium \n",
    "    if(leverage_ratio == INSUFFICIENT_TOTAL_PROTECTION_AMOUNT):\n",
    "        #print(\"total protection amount is less than minimum total protection amount\")\n",
    "        return min_carapace_risk_premium \n",
    "    risk_factor = ((leverage_ratio_max - leverage_ratio) /\n",
    "                   (leverage_ratio-leverage_ratio_min)) * curvature\n",
    "    carapace_risk_premium = max((1-pow(math.e, -duration * risk_factor)), min_carapace_risk_premium) \n",
    "    return carapace_risk_premium\n",
    "\n",
    "# risk premium formula\n",
    "def underlying_risk_premium(\n",
    "    duration=DURATION,\n",
    "    underlying_risk_premium_percent=UNDERLYING_RISK_PREMIUM_PERCENT,\n",
    "    protection_buyer_apy=PROTECTION_BUYER_APY,\n",
    "):\n",
    "    underlying_risk_premium = underlying_risk_premium_percent * duration * protection_buyer_apy\n",
    "    return underlying_risk_premium\n",
    "\n",
    "# premium formula\n",
    "def premium(\n",
    "    protection_amount=PROTECTION_AMOUNT,\n",
    "    duration=DURATION,\n",
    "    curvature=CURVATURE,\n",
    "    leverage_ratio=LEVERAGE_RATIO,\n",
    "    underlying_risk_premium_percent=UNDERLYING_RISK_PREMIUM_PERCENT,\n",
    "    protection_buyer_apy=PROTECTION_BUYER_APY,\n",
    "    leverage_ratio_min=LEVERAGE_RATIO_MIN,\n",
    "    leverage_ratio_max=LEVERAGE_RATIO_MAX,\n",
    "    min_carapace_risk_premium= MIN_CARAPACE_RISK_PREMIUM,\n",
    "):\n",
    "\n",
    "    Carapace_risk_premium = carapace_risk_premium(\n",
    "        duration=duration,\n",
    "        curvature=curvature,\n",
    "        leverage_ratio=leverage_ratio,\n",
    "        leverage_ratio_min=leverage_ratio_min,\n",
    "        leverage_ratio_max=leverage_ratio_max,\n",
    "        min_carapace_risk_premium= min_carapace_risk_premium,\n",
    "    )\n",
    "\n",
    "    Underlying_risk_premium = underlying_risk_premium(\n",
    "        duration=DURATION,\n",
    "        underlying_risk_premium_percent=underlying_risk_premium_percent,\n",
    "        protection_buyer_apy=protection_buyer_apy,\n",
    "    )\n",
    "\n",
    "    premium = (Carapace_risk_premium + Underlying_risk_premium) * protection_amount\n",
    "    return premium\n"
   ]
  },
  {
   "cell_type": "code",
   "execution_count": 31,
   "id": "07f6f125",
   "metadata": {},
   "outputs": [
    {
     "name": "stdout",
     "output_type": "stream",
     "text": [
      "seller APY 40.0 %\n"
     ]
    }
   ],
   "source": [
    "#scenario 1\n",
    "#Day 0, 10 sellers deposited 100k each, 10 buyers bought protection for 1M each for 1 year at 4% interest and no protocol fees\n",
    "#seller APY at day 365 assuming no default and no seller withdrawal\n",
    "total_sTokens = 1000000\n",
    "total_capital = 1000000\n",
    "accrued_premium = 400000\n",
    "exchange_rate_day_0 = total_capital/total_sTokens\n",
    "exchange_rate_day_365 = (total_capital + accrued_premium)/total_sTokens\n",
    "exchange_rate_change_percent = accrued_premium/total_capital\n",
    "print(\"seller APY\", exchange_rate_change_percent*100, \"%\")"
   ]
  },
  {
   "cell_type": "code",
   "execution_count": 32,
   "id": "e3e92d09",
   "metadata": {},
   "outputs": [
    {
     "data": {
      "text/plain": [
       "0.0527838995179941"
      ]
     },
     "execution_count": 32,
     "metadata": {},
     "output_type": "execute_result"
    }
   ],
   "source": [
    "premium()"
   ]
  },
  {
   "cell_type": "code",
   "execution_count": 33,
   "id": "16302fc6",
   "metadata": {},
   "outputs": [
    {
     "name": "stdout",
     "output_type": "stream",
     "text": [
      "0.0527838995179941\n"
     ]
    },
    {
     "data": {
      "image/png": "[encoded data removed]",
      "text/plain": [
       "<Figure size 432x288 with 1 Axes>"
      ]
     },
     "metadata": {
      "needs_background": "light"
     },
     "output_type": "display_data"
    },
    {
     "data": {
      "image/png": "[encoded data removed]",
      "text/plain": [
       "<Figure size 432x288 with 1 Axes>"
      ]
     },
     "metadata": {
      "needs_background": "light"
     },
     "output_type": "display_data"
    }
   ],
   "source": [
    "#scenario 2\n",
    "#Day 0, 10 buyers bought protection for 1M each for 1 year and no protocol fees\n",
    "#total_capital ranges between 1M and 2M so that leverage_ratio varies between 0.1 and 0.2\n",
    "#seller APY at day 365 assuming no default and no seller withdrawal\n",
    "#entire premium is accrued\n",
    "#exchange_rate_change_percent = accrued_premium/total_capital\n",
    "#exchange_rate_change_percent = premium_per_unit * total_protection_amount/total_capital\n",
    "#exchange_rate_change_percent = premium_per_unit / leverage_ratio\n",
    "\n",
    "# Seller APY simulation with leverage_ratios\n",
    "# setting the x - coordinates with the leverage_ratios\n",
    "leverage_ratios = np.arange(LEVERAGE_RATIO_FLOOR, LEVERAGE_RATIO_CEILING, 0.001)\n",
    "print(premium())\n",
    "premiums = [premium(leverage_ratio=leverage_ratio) \n",
    "            for leverage_ratio in leverage_ratios]\n",
    "\n",
    "plt.plot(leverage_ratios, premiums)\n",
    "plt.title(\"Premium simulation\")\n",
    "plt.xlabel(\"leverage ratio\")\n",
    "plt.ylabel(\"premium payment\")\n",
    "plt.show()\n",
    "seller_apys = [premium(leverage_ratio=leverage_ratio) / leverage_ratio\n",
    "            for leverage_ratio in leverage_ratios]\n",
    "\n",
    "plt.plot(leverage_ratios, seller_apys)\n",
    "plt.title(\"Seller APY simulation\")\n",
    "plt.xlabel(\"leverage ratio\")\n",
    "plt.ylabel(\"seller APY\")\n",
    "plt.show()\n"
   ]
  },
  {
   "cell_type": "code",
   "execution_count": 34,
   "id": "e9e82cf1",
   "metadata": {},
   "outputs": [
    {
     "data": {
      "text/plain": [
       "0.04000000000000001"
      ]
     },
     "execution_count": 34,
     "metadata": {},
     "output_type": "execute_result"
    }
   ],
   "source": [
    "premium(leverage_ratio = LEVERAGE_RATIO_CEILING)"
   ]
  },
  {
   "cell_type": "code",
   "execution_count": 35,
   "id": "c4c77541",
   "metadata": {},
   "outputs": [
    {
     "name": "stdout",
     "output_type": "stream",
     "text": [
      "0.0527838995179941\n"
     ]
    },
    {
     "data": {
      "image/png": "[encoded data removed]",
      "text/plain": [
       "<Figure size 432x288 with 1 Axes>"
      ]
     },
     "metadata": {
      "needs_background": "light"
     },
     "output_type": "display_data"
    },
    {
     "data": {
      "image/png": "[encoded data removed]",
      "text/plain": [
       "<Figure size 432x288 with 1 Axes>"
      ]
     },
     "metadata": {
      "needs_background": "light"
     },
     "output_type": "display_data"
    }
   ],
   "source": [
    "#scenario 2\n",
    "#Day 0, 10 buyers bought protection for 1M each for 1 year and no protocol fees\n",
    "#total_capital ranges between 1M and 2M so that leverage_ratio varies between 0.1 and 0.2\n",
    "#seller APY at day 365 assuming no default and no seller withdrawal\n",
    "#entire premium is accrued\n",
    "#exchange_rate_change_percent = accrued_premium/total_capital\n",
    "#exchange_rate_change_percent = premium_per_unit * total_protection_amount/total_capital\n",
    "#exchange_rate_change_percent = premium_per_unit / leverage_ratio\n",
    "\n",
    "# Seller APY simulation with leverage_ratios\n",
    "# setting the x - coordinates with the leverage_ratios\n",
    "leverage_ratios = np.arange(0.2, 0.6, 0.001)\n",
    "print(premium())\n",
    "premiums = [premium(leverage_ratio=leverage_ratio, leverage_ratio_min = 0.15, leverage_ratio_max =0.65) \n",
    "            for leverage_ratio in leverage_ratios]\n",
    "\n",
    "plt.plot(leverage_ratios, premiums)\n",
    "plt.title(\"Premium simulation\")\n",
    "plt.xlabel(\"leverage ratio\")\n",
    "plt.ylabel(\"premium payment\")\n",
    "plt.show()\n",
    "seller_apys = [premium(leverage_ratio=leverage_ratio, leverage_ratio_min = 0.15, leverage_ratio_max =0.65 ) / leverage_ratio\n",
    "            for leverage_ratio in leverage_ratios]\n",
    "\n",
    "plt.plot(leverage_ratios, seller_apys)\n",
    "plt.title(\"Seller APY simulation\")\n",
    "plt.xlabel(\"leverage ratio\")\n",
    "plt.ylabel(\"seller APY\")\n",
    "plt.show()\n"
   ]
  },
  {
   "cell_type": "code",
   "execution_count": null,
   "id": "dc8d2a08",
   "metadata": {},
   "outputs": [],
   "source": []
  }
 ],
 "metadata": {
  "kernelspec": {
   "display_name": "Python 3 (ipykernel)",
   "language": "python",
   "name": "python3"
  },
  "language_info": {
   "codemirror_mode": {
    "name": "ipython",
    "version": 3
   },
   "file_extension": ".py",
   "mimetype": "text/x-python",
   "name": "python",
   "nbconvert_exporter": "python",
   "pygments_lexer": "ipython3",
   "version": "3.10.0"
  }
 },
 "nbformat": 4,
 "nbformat_minor": 5
}
