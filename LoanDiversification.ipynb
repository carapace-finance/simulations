{
 "cells": [
  {
   "cell_type": "code",
   "execution_count": 75,
   "id": "296cfefd",
   "metadata": {},
   "outputs": [],
   "source": [
    "import numpy as np"
   ]
  },
  {
   "cell_type": "code",
   "execution_count": null,
   "id": "4c16132a",
   "metadata": {},
   "outputs": [],
   "source": [
    "#Distribution is an array of amounts allocated to choosen factos for diversification\n",
    "#if 10000000 loan amount is distibuted equally amount four sectors energy, fintech, SMEs, Web3 then\n",
    "#Distribution = [2500000,2500000,2500000,2500000]"
   ]
  },
  {
   "cell_type": "code",
   "execution_count": 76,
   "id": "8af6778e",
   "metadata": {},
   "outputs": [],
   "source": [
    "distribution=[1000000,1000000,1000000,1000000,1000000,1000000,1000000,1000000,1000000,1000000]"
   ]
  },
  {
   "cell_type": "code",
   "execution_count": 81,
   "id": "b3403c2b",
   "metadata": {},
   "outputs": [],
   "source": [
    "def diversification(distribution):\n",
    "    total_amount = sum(distribution)\n",
    "    distribution_size = len(distribution)\n",
    "    weights = [amount/total_amount for amount in distribution]\n",
    "    standard_deviation = (np.std(weights))\n",
    "    range_std = (1/distribution_size - 1/(distribution_size**2))**(0.5)\n",
    "    diversification = 1 - standard_deviation/range_std\n",
    "    return diversification"
   ]
  },
  {
   "cell_type": "code",
   "execution_count": 82,
   "id": "cd58d5ce",
   "metadata": {},
   "outputs": [
    {
     "name": "stdout",
     "output_type": "stream",
     "text": [
      "1.0\n"
     ]
    }
   ],
   "source": [
    "print(diversification(distribution))"
   ]
  },
  {
   "cell_type": "code",
   "execution_count": null,
   "id": "d5d5936a",
   "metadata": {},
   "outputs": [],
   "source": [
    "#Higher the diversification over chosen factors, capital allocated equally to chosen factors resulting \n",
    "#in standard deviation closer to 0 and Diversification close to 1 or 100%\n",
    "\n",
    "#Lower the diversification over chosen factors, capital is skewed towards one factor which results in \n",
    "#maximum standard deviation and Diversification close to 0.\n",
    "\n",
    "#Diversification varies between 0 and 1 with higher the diversification if total aggregate loan amount \n",
    "#is equally distributed.\n"
   ]
  },
  {
   "cell_type": "code",
   "execution_count": 83,
   "id": "984c7383",
   "metadata": {},
   "outputs": [
    {
     "name": "stdout",
     "output_type": "stream",
     "text": [
      "0.850928801500014\n",
      "0.33333333333333326\n",
      "0.0\n"
     ]
    }
   ],
   "source": [
    "print(diversification([2000000,1000000,1000000,1000000,1000000,1000000,1000000,1000000,1000000,0]))\n",
    "print(diversification([5000000,5000000,0,0,0,0,0,0,0,0]))\n",
    "print(diversification([10000000,0,0,0,0,0,0,0,0,0]))"
   ]
  },
  {
   "cell_type": "code",
   "execution_count": null,
   "id": "ae55b1c3",
   "metadata": {},
   "outputs": [],
   "source": []
  },
  {
   "cell_type": "code",
   "execution_count": null,
   "id": "6df14d5f",
   "metadata": {},
   "outputs": [],
   "source": []
  }
 ],
 "metadata": {
  "kernelspec": {
   "display_name": "Python 3 (ipykernel)",
   "language": "python",
   "name": "python3"
  },
  "language_info": {
   "codemirror_mode": {
    "name": "ipython",
    "version": 3
   },
   "file_extension": ".py",
   "mimetype": "text/x-python",
   "name": "python",
   "nbconvert_exporter": "python",
   "pygments_lexer": "ipython3",
   "version": "3.10.0"
  }
 },
 "nbformat": 4,
 "nbformat_minor": 5
}
