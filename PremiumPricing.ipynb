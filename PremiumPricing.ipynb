{
 "cells": [
  {
   "cell_type": "markdown",
   "id": "b6ebbe9c",
   "metadata": {},
   "source": [
    "We run the premium pricing simulations for two reasons. The first is that we want to visually explain how our premium pricing works. The second is that we want to define constant values in a way that meet our criteria. Based on our criteria, we define constant values below:\n",
    "\n",
    "- MIN_BASE_PREMIUM\n",
    "- LEVERAGE_RATIO_CEILING\n",
    "- LEVERAGE_RATIO_FLOOR\n",
    "- BUFFER\n",
    "- CURVATURE\n",
    "- RISK_PREMIUM_PERCENT"
   ]
  },
  {
   "cell_type": "markdown",
   "id": "d4daab5a",
   "metadata": {},
   "source": [
    "## Libraries"
   ]
  },
  {
   "cell_type": "code",
   "execution_count": 1,
   "id": "addb2514",
   "metadata": {},
   "outputs": [],
   "source": [
    "import math\n",
    "from matplotlib import pyplot as plt\n",
    "import numpy as np"
   ]
  },
  {
   "cell_type": "markdown",
   "id": "202499ea",
   "metadata": {},
   "source": [
    "## Constant values for the simulations"
   ]
  },
  {
   "cell_type": "code",
   "execution_count": 2,
   "id": "60219ff9",
   "metadata": {},
   "outputs": [],
   "source": [
    "# constant values for premium the pricing formula\n",
    "\n",
    "# user inputs \n",
    "DURATION = 1\n",
    "PROTECTION_AMOUNT = 1\n",
    "\n",
    "# predefined values\n",
    "CURVATURE = 1/20\n",
    "LEVERAGE_RATIO_FLOOR = 0.5\n",
    "LEVERAGE_RATIO_CEILING = 0.8\n",
    "BUFFER = 0.05\n",
    "LEVERAGE_RATIO_MIN = LEVERAGE_RATIO_FLOOR - BUFFER\n",
    "LEVERAGE_RATIO_MAX = LEVERAGE_RATIO_CEILING + BUFFER\n",
    "MIN_CARAPACE_RISK_PREMIUM = 0.07\n",
    "UNDERLYING_RISK_PREMIUM_PERCENT = 0.1\n",
    "PROTECTION_BUYER_APY = 0.17\n",
    "MINIMUM_STOKEN_UNDERLYING = 100000\n",
    "MINIMUM_TOTAL_PROTECTION_AMOUNT = 125000\n",
    "\n",
    "# market driven values\n",
    "LEVERAGE_RATIO = 0.6\n",
    "\n",
    "# flags\n",
    "INSUFFICIENT_STOKEN_UNDERLYING = -1\n",
    "INSUFFICIENT_TOTAL_PROTECTION_AMOUNT = -2"
   ]
  },
  {
   "cell_type": "markdown",
   "id": "c75aa336",
   "metadata": {},
   "source": [
    "## Formula functions"
   ]
  },
  {
   "cell_type": "code",
   "execution_count": 3,
   "id": "4477408c",
   "metadata": {},
   "outputs": [],
   "source": [
    "# the leverage ratio formula\n",
    "\n",
    "# When the Carapace Protocol starts a new pool, there are the minimal sToken underlying from protection sellers and the minimal total protection amount in the pool. If the sToken underlying is less than the minimum sToken underlying or the total protection amount is less than minimum total protection amount, the premium is min_base_premium + risk_premium. \n",
    "\n",
    "def leverage_ratio(\n",
    "    sToken_underlying=MINIMUM_STOKEN_UNDERLYING,\n",
    "    total_protection_amount=MINIMUM_TOTAL_PROTECTION_AMOUNT\n",
    "):\n",
    "    if(sToken_underlying < MINIMUM_STOKEN_UNDERLYING):\n",
    "        return INSUFFICIENT_STOKEN_UNDERLYING\n",
    "    if(total_protection_amount < MINIMUM_TOTAL_PROTECTION_AMOUNT):\n",
    "        return INSUFFICIENT_TOTAL_PROTECTION_AMOUNT\n",
    "    return sToken_underlying/total_protection_amount\n",
    "    # where sToken_underlying = locked_capital + accrued_premiums - default_payouts\n"
   ]
  },
  {
   "cell_type": "code",
   "execution_count": 4,
   "id": "c0f64f31",
   "metadata": {},
   "outputs": [
    {
     "data": {
      "text/plain": [
       "0.5"
      ]
     },
     "execution_count": 4,
     "metadata": {},
     "output_type": "execute_result"
    }
   ],
   "source": [
    "leverage_ratio(1000000, 2000000)\n"
   ]
  },
  {
   "cell_type": "code",
   "execution_count": 5,
   "id": "18f6ef5f",
   "metadata": {},
   "outputs": [],
   "source": [
    "# base premium formula\n",
    "\n",
    "def carapace_risk_premium(\n",
    "    duration=DURATION,\n",
    "    curvature=CURVATURE,\n",
    "    leverage_ratio=LEVERAGE_RATIO,\n",
    "    leverage_ratio_min=LEVERAGE_RATIO_MIN,\n",
    "    leverage_ratio_max=LEVERAGE_RATIO_MAX,\n",
    "    min_carapace_risk_premium= MIN_CARAPACE_RISK_PREMIUM,\n",
    "):\n",
    "\n",
    "    if(leverage_ratio == INSUFFICIENT_STOKEN_UNDERLYING):\n",
    "        #print(\"total capital is less than minimum total capital\")\n",
    "        return min_carapace_risk_premium \n",
    "    if(leverage_ratio == INSUFFICIENT_TOTAL_PROTECTION_AMOUNT):\n",
    "        #print(\"total protection amount is less than minimum total protection amount\")\n",
    "        return min_carapace_risk_premium \n",
    "    risk_factor = ((leverage_ratio_max - leverage_ratio) /\n",
    "                   (leverage_ratio-leverage_ratio_min)) * curvature\n",
    "    carapace_risk_premium = max((1-pow(math.e, -duration * risk_factor)), min_carapace_risk_premium) \n",
    "    return carapace_risk_premium"
   ]
  },
  {
   "cell_type": "code",
   "execution_count": 6,
   "id": "79b64bb1",
   "metadata": {},
   "outputs": [
    {
     "name": "stdout",
     "output_type": "stream",
     "text": [
      "0.07\n"
     ]
    }
   ],
   "source": [
    "print(carapace_risk_premium(leverage_ratio = 0.15))"
   ]
  },
  {
   "cell_type": "code",
   "execution_count": 7,
   "id": "08301ac4",
   "metadata": {},
   "outputs": [
    {
     "ename": "NameError",
     "evalue": "name 'base_premium' is not defined",
     "output_type": "error",
     "traceback": [
      "\u001b[0;31m---------------------------------------------------------------------------\u001b[0m",
      "\u001b[0;31mNameError\u001b[0m                                 Traceback (most recent call last)",
      "Cell \u001b[0;32mIn [7], line 7\u001b[0m\n\u001b[1;32m      4\u001b[0m \u001b[38;5;28;01mfor\u001b[39;00m curvature \u001b[38;5;129;01min\u001b[39;00m CURVATUREs:\n\u001b[1;32m      5\u001b[0m     \u001b[38;5;66;03m# setting the x - coordinates with the leverage_ratios\u001b[39;00m\n\u001b[1;32m      6\u001b[0m     leverage_ratios \u001b[38;5;241m=\u001b[39m np\u001b[38;5;241m.\u001b[39marange(LEVERAGE_RATIO_FLOOR, LEVERAGE_RATIO_CEILING, \u001b[38;5;241m0.001\u001b[39m)\n\u001b[0;32m----> 7\u001b[0m     base_premium_percents \u001b[38;5;241m=\u001b[39m [base_premium(leverage_ratio\u001b[38;5;241m=\u001b[39mleverage_ratio, curvature\u001b[38;5;241m=\u001b[39mcurvature) \u001b[38;5;241m*\u001b[39m \u001b[38;5;241m100\u001b[39m\n\u001b[1;32m      8\u001b[0m                      \u001b[38;5;28;01mfor\u001b[39;00m leverage_ratio \u001b[38;5;129;01min\u001b[39;00m leverage_ratios]\n\u001b[1;32m     10\u001b[0m     plt\u001b[38;5;241m.\u001b[39mplot(leverage_ratios, base_premium_percents)\n\u001b[1;32m     11\u001b[0m     plt\u001b[38;5;241m.\u001b[39mtitle(\u001b[38;5;124m\"\u001b[39m\u001b[38;5;124mcurvature: \u001b[39m\u001b[38;5;132;01m%f\u001b[39;00m\u001b[38;5;124m\"\u001b[39m \u001b[38;5;241m%\u001b[39m (curvature))\n",
      "Cell \u001b[0;32mIn [7], line 7\u001b[0m, in \u001b[0;36m<listcomp>\u001b[0;34m(.0)\u001b[0m\n\u001b[1;32m      4\u001b[0m \u001b[38;5;28;01mfor\u001b[39;00m curvature \u001b[38;5;129;01min\u001b[39;00m CURVATUREs:\n\u001b[1;32m      5\u001b[0m     \u001b[38;5;66;03m# setting the x - coordinates with the leverage_ratios\u001b[39;00m\n\u001b[1;32m      6\u001b[0m     leverage_ratios \u001b[38;5;241m=\u001b[39m np\u001b[38;5;241m.\u001b[39marange(LEVERAGE_RATIO_FLOOR, LEVERAGE_RATIO_CEILING, \u001b[38;5;241m0.001\u001b[39m)\n\u001b[0;32m----> 7\u001b[0m     base_premium_percents \u001b[38;5;241m=\u001b[39m [\u001b[43mbase_premium\u001b[49m(leverage_ratio\u001b[38;5;241m=\u001b[39mleverage_ratio, curvature\u001b[38;5;241m=\u001b[39mcurvature) \u001b[38;5;241m*\u001b[39m \u001b[38;5;241m100\u001b[39m\n\u001b[1;32m      8\u001b[0m                      \u001b[38;5;28;01mfor\u001b[39;00m leverage_ratio \u001b[38;5;129;01min\u001b[39;00m leverage_ratios]\n\u001b[1;32m     10\u001b[0m     plt\u001b[38;5;241m.\u001b[39mplot(leverage_ratios, base_premium_percents)\n\u001b[1;32m     11\u001b[0m     plt\u001b[38;5;241m.\u001b[39mtitle(\u001b[38;5;124m\"\u001b[39m\u001b[38;5;124mcurvature: \u001b[39m\u001b[38;5;132;01m%f\u001b[39;00m\u001b[38;5;124m\"\u001b[39m \u001b[38;5;241m%\u001b[39m (curvature))\n",
      "\u001b[0;31mNameError\u001b[0m: name 'base_premium' is not defined"
     ]
    }
   ],
   "source": [
    "# base premium simulations with curvature\n",
    "CURVATUREs = [1/20, 1/25, 1/30, 1 /\n",
    "              40, 1 / 50, 1/60, 1/70, 1/80, 1/90, 1/100]\n",
    "for curvature in CURVATUREs:\n",
    "    # setting the x - coordinates with the leverage_ratios\n",
    "    leverage_ratios = np.arange(LEVERAGE_RATIO_FLOOR, LEVERAGE_RATIO_CEILING, 0.001)\n",
    "    base_premium_percents = [base_premium(leverage_ratio=leverage_ratio, curvature=curvature) * 100\n",
    "                     for leverage_ratio in leverage_ratios]\n",
    "\n",
    "    plt.plot(leverage_ratios, base_premium_percents)\n",
    "    plt.title(\"curvature: %f\" % (curvature))\n",
    "    plt.xlabel(\"leverage ratio\")\n",
    "    plt.ylabel(\"base premium percent\")\n",
    "    plt.show()\n"
   ]
  },
  {
   "cell_type": "code",
   "execution_count": null,
   "id": "dbf43ea5",
   "metadata": {},
   "outputs": [],
   "source": [
    "# risk premium formula\n",
    "def underlying_risk_premium(\n",
    "    duration=DURATION,\n",
    "    underlying_risk_premium_percent=UNDERLYING_RISK_PREMIUM_PERCENT,\n",
    "    protection_buyer_apy=PROTECTION_BUYER_APY,\n",
    "):\n",
    "    underlying_risk_premium = underlying_risk_premium_percent * duration * protection_buyer_apy\n",
    "    return underlying_risk_premium\n"
   ]
  },
  {
   "cell_type": "code",
   "execution_count": null,
   "id": "9c3f10fc",
   "metadata": {},
   "outputs": [],
   "source": [
    "# premium formula\n",
    "def premium(\n",
    "    protection_amount=PROTECTION_AMOUNT,\n",
    "    duration=DURATION,\n",
    "    curvature=CURVATURE,\n",
    "    leverage_ratio=LEVERAGE_RATIO,\n",
    "    underlying_risk_premium_percent=UNDERLYING_RISK_PREMIUM_PERCENT,\n",
    "    protection_buyer_apy=PROTECTION_BUYER_APY,\n",
    "    leverage_ratio_min=LEVERAGE_RATIO_MIN,\n",
    "    leverage_ratio_max=LEVERAGE_RATIO_MAX,\n",
    "    min_carapace_risk_premium= MIN_CARAPACE_RISK_PREMIUM,\n",
    "):\n",
    "\n",
    "    Carapace_risk_premium = carapace_risk_premium(\n",
    "        duration=duration,\n",
    "        curvature=curvature,\n",
    "        leverage_ratio=leverage_ratio,\n",
    "        leverage_ratio_min=leverage_ratio_min,\n",
    "        leverage_ratio_max=leverage_ratio_max,\n",
    "        min_carapace_risk_premium= min_carapace_risk_premium,\n",
    "    )\n",
    "\n",
    "    Underlying_risk_premium = underlying_risk_premium(\n",
    "        duration=DURATION,\n",
    "        underlying_risk_premium_percent=underlying_risk_premium_percent,\n",
    "        protection_buyer_apy=protection_buyer_apy,\n",
    "    )\n",
    "\n",
    "    premium = (Carapace_risk_premium + Underlying_risk_premium) * protection_amount\n",
    "    return premium\n"
   ]
  },
  {
   "cell_type": "code",
   "execution_count": null,
   "id": "380cac77",
   "metadata": {},
   "outputs": [],
   "source": [
    "print(carapace_risk_premium())\n",
    "print(underlying_risk_premium())"
   ]
  },
  {
   "cell_type": "code",
   "execution_count": null,
   "id": "360c26f1",
   "metadata": {},
   "outputs": [],
   "source": [
    "#premium = base_premium + risk_premium\n",
    "premium()"
   ]
  },
  {
   "cell_type": "code",
   "execution_count": null,
   "id": "7cd35224",
   "metadata": {},
   "outputs": [],
   "source": [
    "# premium simulation with curvatures\n",
    "CURVATUREs = [1/20, 1/25, 1/30, 1 /\n",
    "              40, 1 / 50, 1/60, 1/70, 1/80, 1/90, 1/100]\n",
    "for curvature in CURVATUREs:\n",
    "    # setting the x - coordinates with the leverage_ratios\n",
    "    leverage_ratios = np.arange(0.1, 0.2, 0.001)\n",
    "    premiums = [premium(leverage_ratio=leverage_ratio, curvature=curvature)\n",
    "                for leverage_ratio in leverage_ratios]\n",
    "    print(CURVATURE)\n",
    "\n",
    "    plt.plot(leverage_ratios, premiums)\n",
    "    plt.title(\"curvature: %f\" % (curvature))\n",
    "    plt.xlabel(\"leverage ratio\")\n",
    "    plt.ylabel(\"premium payment\")\n",
    "    plt.show()\n"
   ]
  },
  {
   "cell_type": "code",
   "execution_count": null,
   "id": "fe5cdf59",
   "metadata": {},
   "outputs": [],
   "source": [
    "# the leverage ratio floor simulation. The spread is constant. \n",
    "\n",
    "# If the floor is lower, that means a community believes underlying loans are safe, and thus premium is cheaper.\n",
    "# setting the x - coordinates\n",
    "leverage_ratio_floors = np.arange(0.06, 0.14, 0.001)\n",
    "premiums = [premium(leverage_ratio=0.15, leverage_ratio_min=leverage_ratio_floor - 0.05,\n",
    "                    leverage_ratio_max=leverage_ratio_floor + 0.15) for leverage_ratio_floor in leverage_ratio_floors]\n",
    "\n",
    "plt.plot(leverage_ratio_floors, premiums)\n",
    "plt.title(\"leverage ratio floor simulation\")\n",
    "plt.xlabel(\"leverage ratio floor\")\n",
    "plt.ylabel(\"premium payment\")\n",
    "plt.show()\n"
   ]
  },
  {
   "cell_type": "code",
   "execution_count": null,
   "id": "7a7ad91d",
   "metadata": {},
   "outputs": [],
   "source": [
    "# the leverage ratio ceiling simulation. The floor is constant. \n",
    "\n",
    "# If the ceiling is lower, that means a community believes underlying loans are safe, and thus premium is cheaper.\n",
    "# setting the x - coordinates\n",
    "leverage_ratio_ceilings = np.arange(0.16, 0.4, 0.001)\n",
    "premiums = [premium(leverage_ratio=0.15, leverage_ratio_max=leverage_ratio_ceiling)\n",
    "            for leverage_ratio_ceiling in leverage_ratio_ceilings]\n",
    "\n",
    "plt.plot(leverage_ratio_ceilings, premiums)\n",
    "plt.title(\"leverage ratio spread simulation\")\n",
    "plt.xlabel(\"leverage ratio ceiling\")\n",
    "plt.ylabel(\"premium payment\")\n",
    "plt.show()\n"
   ]
  },
  {
   "cell_type": "code",
   "execution_count": null,
   "id": "bef70480",
   "metadata": {},
   "outputs": [],
   "source": [
    "# the leverage ratio floor simulation. The ceiling is constant. \n",
    "# setting the x - coordinates\n",
    "leverage_ratio_floors = np.arange(0.06, 0.14, 0.001)\n",
    "premiums = [premium(leverage_ratio=0.15, leverage_ratio_min=leverage_ratio_floor - 0.05,) \n",
    "            for leverage_ratio_floor in leverage_ratio_floors]\n",
    "\n",
    "# plotting the points\n",
    "plt.plot(leverage_ratio_floors, premiums)\n",
    "plt.title(\"Leverage ratio floor simulation\")\n",
    "plt.xlabel(\"leverage ratio floor\")\n",
    "plt.ylabel(\"Premium payment\")\n",
    "plt.show()\n"
   ]
  },
  {
   "cell_type": "code",
   "execution_count": null,
   "id": "fdc51877",
   "metadata": {},
   "outputs": [],
   "source": [
    "# total protection amount simulation\n",
    "# setting the x - coordinates\n",
    "total_protection_amounts = np.arange(0, 4000000, 100000)\n",
    "sToken_underlying = 400000\n",
    "leverage_ratios = [leverage_ratio(sToken_underlying=sToken_underlying, total_protection_amount=total_protection_amount)\n",
    "                   for total_protection_amount in total_protection_amounts]\n",
    "premiums = [premium(leverage_ratio=leverage_ratio)\n",
    "            for leverage_ratio in leverage_ratios]\n",
    "\n",
    "plt.plot(total_protection_amounts, premiums)\n",
    "plt.title(\"total protection amount simulation\")\n",
    "plt.xlabel(\"total protection amount\")\n",
    "plt.ylabel(\"premium payment\")\n",
    "plt.show()\n"
   ]
  },
  {
   "cell_type": "code",
   "execution_count": null,
   "id": "413b35d6",
   "metadata": {},
   "outputs": [],
   "source": [
    "# sToken underlying simulation\n",
    "# setting the x - coordinates\n",
    "sToken_underlyings = np.arange(400000, 900000, 10000)\n",
    "total_protection_amount = 4000000\n",
    "leverage_ratios = [leverage_ratio(\n",
    "    sToken_underlying=sToken_underlying, total_protection_amount=total_protection_amount) for sToken_underlying in sToken_underlyings]\n",
    "premiums = [premium(leverage_ratio=leverage_ratio)\n",
    "            for leverage_ratio in leverage_ratios]\n",
    "\n",
    "plt.plot(sToken_underlyings, premiums)\n",
    "plt.title(\"sToken underlying capital simulation\")\n",
    "plt.xlabel(\"sToken_underlying\")\n",
    "plt.ylabel(\"premium payment\")\n",
    "plt.show()\n"
   ]
  },
  {
   "cell_type": "code",
   "execution_count": null,
   "id": "4ab8bf4f",
   "metadata": {},
   "outputs": [],
   "source": [
    "# min base premium simulation\n",
    "\n",
    "# setting the x - coordinates\n",
    "min_carapace_risk_premiums = np.arange(0, 0.07, 0.0001)\n",
    "premiums = [premium(min_carapace_risk_premium=min_carapace_risk_premium)\n",
    "            for min_carapace_risk_premium in min_carapace_risk_premiums]\n",
    "\n",
    "plt.plot(min_carapace_risk_premiums, premiums)\n",
    "plt.title(\"min_carapace_risk_premium\")\n",
    "plt.xlabel(\"min_carapace_risk_premium\")\n",
    "plt.ylabel(\"premium payment\")\n",
    "plt.show()"
   ]
  },
  {
   "cell_type": "code",
   "execution_count": null,
   "id": "3890da9d",
   "metadata": {},
   "outputs": [],
   "source": [
    "# min base premium simulation for different leverage_ratios\n",
    "\n",
    "# when the leverage ratio goes close to ceiling, if the min base premium is higher, then premium becomes constant at some point\n",
    "min_carapace_risk_premiums = [0, 0.01, 0.02, 0.03, 0.04, 0.05, 0.06, 0.07, 0.08, 0.09,0.1]\n",
    "for min_carapace_risk_premium in min_carapace_risk_premiums:\n",
    "    # setting the x - coordinates with the leverage_ratios\n",
    "    leverage_ratios = np.arange(0.1, 0.2, 0.001)\n",
    "    premiums = [premium(leverage_ratio=leverage_ratio, min_carapace_risk_premium=min_carapace_risk_premium)\n",
    "                for leverage_ratio in leverage_ratios]\n",
    "\n",
    "    plt.plot(leverage_ratios, premiums)\n",
    "    plt.title(\"min_carapace_risk_premium: %f\" % (min_carapace_risk_premium))\n",
    "    plt.xlabel(\"leverage ratio\")\n",
    "    plt.ylabel(\"premium payment\")\n",
    "    plt.show()"
   ]
  },
  {
   "cell_type": "code",
   "execution_count": null,
   "id": "ef53b823",
   "metadata": {},
   "outputs": [],
   "source": [
    "# buffer_value simulation\n",
    "# setting the x - coordinates\n",
    "buffer_values = np.arange(0, 0.07, 0.001)\n",
    "for leverage_ratio in [0.13,0.14,0.15,0.16,0.17]:   \n",
    "    leverage_ratio_mins = []\n",
    "    leverage_ratio_maxs = []\n",
    "    premiums = []\n",
    "    for i in range(len(buffer_values)):\n",
    "        leverage_ratio_mins.append(LEVERAGE_RATIO_FLOOR - buffer_values[i])\n",
    "        leverage_ratio_maxs.append(LEVERAGE_RATIO_CEILING + buffer_values[i])\n",
    "        premiums.append(premium(leverage_ratio=leverage_ratio,leverage_ratio_min=leverage_ratio_mins[i], leverage_ratio_max=leverage_ratio_maxs[i]))\n",
    "    # plotting the points\n",
    "    plt.plot(buffer_values, premiums)\n",
    "    plt.title(\"leverage ratio: %f\" % (leverage_ratio))\n",
    "    plt.xlabel(\"buffer_value\")\n",
    "    plt.ylabel(\"Premium payment\")\n",
    "    plt.show()"
   ]
  }
 ],
 "metadata": {
  "kernelspec": {
   "display_name": "Python 3 (ipykernel)",
   "language": "python",
   "name": "python3"
  },
  "language_info": {
   "codemirror_mode": {
    "name": "ipython",
    "version": 3
   },
   "file_extension": ".py",
   "mimetype": "text/x-python",
   "name": "python",
   "nbconvert_exporter": "python",
   "pygments_lexer": "ipython3",
   "version": "3.9.13"
  }
 },
 "nbformat": 4,
 "nbformat_minor": 5
}
