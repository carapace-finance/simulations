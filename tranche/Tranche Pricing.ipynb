{
 "cells": [
  {
   "cell_type": "code",
   "execution_count": 5,
   "id": "c21cb708",
   "metadata": {},
   "outputs": [],
   "source": [
    "import numpy as np\n",
    "import pandas as pd\n",
    "from matplotlib import pyplot as plt\n",
    "import math"
   ]
  },
  {
   "cell_type": "code",
   "execution_count": 546,
   "id": "be2172b5",
   "metadata": {},
   "outputs": [],
   "source": [
    "## Defining various constants borrowed from the Premium Pricing ipynb notebook\n",
    "# user inputs \n",
    "DURATION = 10\n",
    "PROTECTION_AMOUNT = 1000000\n",
    "\n",
    "# predefined values\n",
    "CURVATURE = 0.05\n",
    "LEVERAGE_RATIO_FLOOR = 0.05\n",
    "LEVERAGE_RATIO_CEILING = 3\n",
    "BUFFER = 0.05\n",
    "LEVERAGE_RATIO_MIN = LEVERAGE_RATIO_FLOOR - BUFFER\n",
    "LEVERAGE_RATIO_MAX = LEVERAGE_RATIO_CEILING + BUFFER\n",
    "MIN_CARAPACE_RISK_PREMIUM = 0.04\n",
    "UNDERLYING_RISK_PREMIUM_PERCENT = 0.1\n",
    "PROTECTION_BUYER_APY = 0.17\n",
    "MINIMUM_STOKEN_UNDERLYING = 1000\n",
    "MINIMUM_TOTAL_PROTECTION_AMOUNT = 1250\n",
    "\n",
    "# market driven values\n",
    "LEVERAGE_RATIO = 0.6\n",
    "\n",
    "# flags\n",
    "INSUFFICIENT_STOKEN_UNDERLYING = -1\n",
    "INSUFFICIENT_TOTAL_PROTECTION_AMOUNT = -2\n"
   ]
  },
  {
   "cell_type": "code",
   "execution_count": 547,
   "id": "4aa3c88b",
   "metadata": {},
   "outputs": [],
   "source": [
    "# Importing functions from carapace repository\n",
    "\n",
    "def leverage_ratio(\n",
    "    sToken_underlying=MINIMUM_STOKEN_UNDERLYING,\n",
    "    total_protection_amount=MINIMUM_TOTAL_PROTECTION_AMOUNT\n",
    "):\n",
    "    if(sToken_underlying < MINIMUM_STOKEN_UNDERLYING):\n",
    "        return INSUFFICIENT_STOKEN_UNDERLYING\n",
    "    if(total_protection_amount < MINIMUM_TOTAL_PROTECTION_AMOUNT):\n",
    "        return INSUFFICIENT_TOTAL_PROTECTION_AMOUNT\n",
    "    return sToken_underlying/total_protection_amount\n",
    "\n",
    "\n",
    "def carapace_risk_premium(\n",
    "    duration=DURATION,\n",
    "    curvature=CURVATURE,\n",
    "    leverage_ratio=LEVERAGE_RATIO,\n",
    "    leverage_ratio_min=LEVERAGE_RATIO_MIN,\n",
    "    leverage_ratio_max=LEVERAGE_RATIO_MAX,\n",
    "    min_carapace_risk_premium= MIN_CARAPACE_RISK_PREMIUM,\n",
    "):\n",
    "\n",
    "    if(leverage_ratio == INSUFFICIENT_STOKEN_UNDERLYING):\n",
    "        #print(\"total capital is less than minimum total capital\")\n",
    "        return min_carapace_risk_premium \n",
    "    if(leverage_ratio == INSUFFICIENT_TOTAL_PROTECTION_AMOUNT):\n",
    "        #print(\"total protection amount is less than minimum total protection amount\")\n",
    "        return min_carapace_risk_premium \n",
    "    risk_factor = ((leverage_ratio_max - leverage_ratio) /\n",
    "                   (leverage_ratio-leverage_ratio_min)) * curvature\n",
    "    carapace_risk_premium = max((1-pow(math.e, -duration * risk_factor)), min_carapace_risk_premium) \n",
    "    return carapace_risk_premium\n",
    "\n",
    "def underlying_risk_premium(\n",
    "    duration=DURATION,\n",
    "    underlying_risk_premium_percent=UNDERLYING_RISK_PREMIUM_PERCENT,\n",
    "    protection_buyer_apy=PROTECTION_BUYER_APY,\n",
    "):\n",
    "    underlying_risk_premium = underlying_risk_premium_percent * duration * protection_buyer_apy\n",
    "    return underlying_risk_premium\n",
    "\n",
    "def premium(\n",
    "    leverage_ratio,\n",
    "    duration=DURATION,\n",
    "    curvature=CURVATURE,\n",
    "    underlying_risk_premium_percent=UNDERLYING_RISK_PREMIUM_PERCENT,\n",
    "    protection_buyer_apy=PROTECTION_BUYER_APY,\n",
    "    leverage_ratio_min=LEVERAGE_RATIO_MIN,\n",
    "    leverage_ratio_max=LEVERAGE_RATIO_MAX,\n",
    "    min_carapace_risk_premium= MIN_CARAPACE_RISK_PREMIUM,\n",
    "):\n",
    "\n",
    "    Carapace_risk_premium = carapace_risk_premium(\n",
    "        duration=duration,\n",
    "        curvature=curvature,\n",
    "        leverage_ratio=leverage_ratio,\n",
    "        leverage_ratio_min=leverage_ratio_min,\n",
    "        leverage_ratio_max=leverage_ratio_max,\n",
    "        min_carapace_risk_premium= min_carapace_risk_premium,\n",
    "    )\n",
    "\n",
    "    Underlying_risk_premium = underlying_risk_premium(\n",
    "        duration=DURATION,\n",
    "        underlying_risk_premium_percent=underlying_risk_premium_percent,\n",
    "        protection_buyer_apy=protection_buyer_apy,\n",
    "    )\n",
    "    premium = (Carapace_risk_premium + Underlying_risk_premium) \n",
    "    return premium"
   ]
  },
  {
   "cell_type": "markdown",
   "id": "aab302e6",
   "metadata": {},
   "source": [
    "## Basic Example \n",
    "### All constants are defined in the way they are defined in the documentation"
   ]
  },
  {
   "cell_type": "code",
   "execution_count": 552,
   "id": "37d1a3d9",
   "metadata": {},
   "outputs": [],
   "source": [
    "L = 0.6 # Initial leverage ratio in the junior tranche (chosen randomly)\n",
    "B = PROTECTION_AMOUNT # B is the buyer demand\n",
    "Y = PROTECTION_AMOUNT*L # Y is the capital in the junior tranche\n",
    "assert(L == leverage_ratio(Y,B))\n",
    "\n",
    "P = premium(L) # Premium percentage initial\n",
    "\n",
    "# Now add senior pool\n",
    "X_Y_ratio = 1 # Ratio of X to Y, chosen randomly\n",
    "X = Y*X_Y_ratio\n",
    "L_new = leverage_ratio(Y+X,B) # New leverage ratio, referred to as L' in documentation\n",
    "P_new = premium(L_new) # New premium, referred to as P' in documentation"
   ]
  },
  {
   "cell_type": "code",
   "execution_count": 553,
   "id": "13b76b88",
   "metadata": {},
   "outputs": [],
   "source": [
    "def senior_pool_premium(B,X,Y,P,P_new,L,L_new):\n",
    "    return max((B*P_new - (Y*P/L_new)),0)/X\n",
    "\n",
    "def junior_pool_premium(B,X,Y,P,P_new,L,L_new):\n",
    "    return min(P/L_new,B*P_new/Y)"
   ]
  },
  {
   "cell_type": "code",
   "execution_count": 554,
   "id": "c6fb8ec0",
   "metadata": {},
   "outputs": [],
   "source": [
    "s = senior_pool_premium(B,X,Y,P,P_new,L,L_new)\n",
    "j = junior_pool_premium(B,X,Y,P,P_new,L,L_new)"
   ]
  },
  {
   "cell_type": "code",
   "execution_count": 555,
   "id": "426a6daf",
   "metadata": {},
   "outputs": [
    {
     "data": {
      "text/plain": [
       "(0.3121311726938429, 0.8668231859538017)"
      ]
     },
     "execution_count": 555,
     "metadata": {},
     "output_type": "execute_result"
    }
   ],
   "source": [
    "s,j"
   ]
  },
  {
   "cell_type": "markdown",
   "id": "c8d29ae9",
   "metadata": {},
   "source": [
    "## Idea 1\n",
    "\n",
    "## Extending it to N pools"
   ]
  },
  {
   "cell_type": "code",
   "execution_count": 578,
   "id": "3a4169e4",
   "metadata": {},
   "outputs": [],
   "source": [
    "L_array = [0.6,0.3,0.9,1,0.7] # Array of lending pools (junior tranches)\n",
    "N = len(L_array) # Number of lending pools\n",
    "B_array = [PROTECTION_AMOUNT,1.2*PROTECTION_AMOUNT,0.7*PROTECTION_AMOUNT,0.9*PROTECTION_AMOUNT,2*PROTECTION_AMOUNT]\n",
    "    # array of buyer demand in each lending pool (junior tranches)\n",
    "\n",
    "assert(len(L_array) == len(B_array))\n",
    "Y_array = [B_array[i]*L_array[i] for i in range(N)] # array of seller capital in each lending pool\n",
    "\n",
    "P_array = [premium(L_array[i]) for i in range(N)] # premiums calculated"
   ]
  },
  {
   "cell_type": "code",
   "execution_count": 579,
   "id": "ce457150",
   "metadata": {},
   "outputs": [],
   "source": [
    "## Now add senior pool\n",
    "X = 10*PROTECTION_AMOUNT # A randomly chosen capital amount in the senior pool\n",
    "L_new_array = [leverage_ratio(Y_array[i]+X/N,B_array[i]) for i in range(N)] # Allocate X/N to each pool and compute\n",
    "        # new leverage ratios\n",
    "P_new_array = [premium(L_new_array[i]) for i in range(N)] # New premium arrays "
   ]
  },
  {
   "cell_type": "code",
   "execution_count": 580,
   "id": "1e232029",
   "metadata": {},
   "outputs": [],
   "source": [
    "# Take the average of the senior pool premium over all lending pools\n",
    "S = sum([senior_pool_premium(B_array[i],X/N,Y_array[i],P_array[i],P_new_array[i],L_array[i],L_new_array[i]) for i in range(N)])/N"
   ]
  },
  {
   "cell_type": "code",
   "execution_count": 581,
   "id": "61a267f5",
   "metadata": {},
   "outputs": [
    {
     "data": {
      "text/plain": [
       "0.04806423854405022"
      ]
     },
     "execution_count": 581,
     "metadata": {},
     "output_type": "execute_result"
    }
   ],
   "source": [
    "S"
   ]
  },
  {
   "cell_type": "code",
   "execution_count": 569,
   "id": "322522d0",
   "metadata": {},
   "outputs": [],
   "source": [
    "# Compute the junior tranche premium for each lending pool\n",
    "J_array = [junior_pool_premium(B_array[i],X/N,Y_array[i],P_array[i],P_new_array[i],L_array[i],L_new_array[i]) for i in range(N)]"
   ]
  },
  {
   "cell_type": "code",
   "execution_count": 570,
   "id": "24eb6529",
   "metadata": {},
   "outputs": [
    {
     "data": {
      "text/plain": [
       "[0.4000722396709854,\n",
       " 0.5897182524319595,\n",
       " 0.23079447952948223,\n",
       " 0.21000000000000002,\n",
       " 0.5784468147972184]"
      ]
     },
     "execution_count": 570,
     "metadata": {},
     "output_type": "execute_result"
    }
   ],
   "source": [
    "J_array"
   ]
  },
  {
   "cell_type": "markdown",
   "id": "67e38753",
   "metadata": {},
   "source": [
    "## Idea 2 \n",
    "\n",
    "### Representing the senior pool as a higher order Carapace pool"
   ]
  },
  {
   "cell_type": "code",
   "execution_count": 582,
   "id": "ea343c8d",
   "metadata": {},
   "outputs": [],
   "source": [
    "L_array = [0.6,0.3,0.9,1,0.7]# Array of lending pools (junior tranches) \n",
    "N = len(L_array) # Number of lending pools\n",
    "B_array = [PROTECTION_AMOUNT,1.2*PROTECTION_AMOUNT,0.7*PROTECTION_AMOUNT,0.9*PROTECTION_AMOUNT,2*PROTECTION_AMOUNT]\n",
    "    # array of buyer demand in each lending pool (junior tranches)\n",
    "assert(len(L_array) == len(B_array))\n",
    "Y_array = [B_array[i]*L_array[i] for i in range(N)] # array of seller capital in each lending pool\n",
    "\n",
    "P_array = [premium(L_array[i]) for i in range(N)] # premiums calculated\n",
    "\n",
    "## Now add senior pool\n",
    "X = 10*PROTECTION_AMOUNT"
   ]
  },
  {
   "cell_type": "code",
   "execution_count": 586,
   "id": "64720189",
   "metadata": {},
   "outputs": [],
   "source": [
    "# The seller capital is represented as X\n",
    "# We now calculate the buyer demand\n",
    "\n",
    "W_array = [(P_array[i])/P_new_array[i] for i in range(N)] # Weight array for each lending pools, currently not used\n",
    "\n",
    "B_senior = 0\n",
    "for i in range(N):\n",
    "    B_senior += max(B_array[i] - Y_array[i],0)   # Add up the exposed capital\n",
    "    \n",
    "L_senior = leverage_ratio(X,B_senior) # Compute the premium treating as a Carapace lending pool\n",
    "S = premium(L_senior) - underlying_risk_premium()# In this case we remove the underling risk premium as we \n",
    "# want it entirely on market dynamics, and that is just a constant "
   ]
  },
  {
   "cell_type": "code",
   "execution_count": 587,
   "id": "66785ee1",
   "metadata": {},
   "outputs": [
    {
     "data": {
      "text/plain": [
       "0.04000000000000001"
      ]
     },
     "execution_count": 587,
     "metadata": {},
     "output_type": "execute_result"
    }
   ],
   "source": [
    "S"
   ]
  },
  {
   "cell_type": "code",
   "execution_count": null,
   "id": "939d73fb",
   "metadata": {},
   "outputs": [],
   "source": []
  }
 ],
 "metadata": {
  "kernelspec": {
   "display_name": "Python 3 (ipykernel)",
   "language": "python",
   "name": "python3"
  },
  "language_info": {
   "codemirror_mode": {
    "name": "ipython",
    "version": 3
   },
   "file_extension": ".py",
   "mimetype": "text/x-python",
   "name": "python",
   "nbconvert_exporter": "python",
   "pygments_lexer": "ipython3",
   "version": "3.9.7"
  }
 },
 "nbformat": 4,
 "nbformat_minor": 5
}
